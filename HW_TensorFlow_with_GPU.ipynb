{
  "nbformat": 4,
  "nbformat_minor": 0,
  "metadata": {
    "colab": {
      "name": "HW TensorFlow with GPU",
      "version": "0.3.2",
      "provenance": [],
      "collapsed_sections": [],
      "toc_visible": true,
      "include_colab_link": true
    },
    "kernelspec": {
      "display_name": "Python 2",
      "name": "python2"
    },
    "accelerator": "GPU"
  },
  "cells": [
    {
      "cell_type": "markdown",
      "metadata": {
        "id": "view-in-github",
        "colab_type": "text"
      },
      "source": [
        "[View in Colaboratory](https://colab.research.google.com/github/clee1994/DLclass/blob/master/HW_TensorFlow_with_GPU.ipynb)"
      ]
    },
    {
      "metadata": {
        "id": "BlmQIFSLZDdc",
        "colab_type": "text"
      },
      "cell_type": "markdown",
      "source": [
        "# Confirm TensorFlow can see the GPU\n",
        "\n",
        "Simply select \"GPU\" in the Accelerator drop-down in Notebook Settings (either through the Edit menu or the command palette at cmd/ctrl-shift-P)."
      ]
    },
    {
      "metadata": {
        "id": "3IEVK-KFxi5Z",
        "colab_type": "code",
        "colab": {
          "base_uri": "https://localhost:8080/",
          "height": 34
        },
        "outputId": "67985f9e-cce2-4f1c-e11f-44f7002f45c4"
      },
      "cell_type": "code",
      "source": [
        "import tensorflow as tf\n",
        "import matplotlib.pyplot as plt\n",
        "import numpy as np\n",
        "\n",
        "device_name = tf.test.gpu_device_name()\n",
        "if device_name != '/device:GPU:0':\n",
        "  raise SystemError('GPU device not found')\n",
        "print('Found GPU at: {}'.format(device_name))"
      ],
      "execution_count": 167,
      "outputs": [
        {
          "output_type": "stream",
          "text": [
            "Found GPU at: /device:GPU:0\n"
          ],
          "name": "stdout"
        }
      ]
    },
    {
      "metadata": {
        "id": "QXRh0DPiZRyG",
        "colab_type": "text"
      },
      "cell_type": "markdown",
      "source": [
        "# Observe TensorFlow speedup on GPU relative to CPU\n",
        "\n",
        "This example constructs a typical convolutional neural network layer over a\n",
        "random image and manually places the resulting ops on either the CPU or the GPU\n",
        "to compare execution speed."
      ]
    },
    {
      "metadata": {
        "id": "Lolmjt71kXh3",
        "colab_type": "code",
        "colab": {}
      },
      "cell_type": "code",
      "source": [
        "def matcompl(rows, cols, mean, stdev, rank, percent_missing, lr, steps, fig,title_str):\n",
        "  B_orig_distr = (np.random.randn(rows,cols))*stdev + mean\n",
        "  B_orig_noise = np.random.rand(rows,cols)-0.5\n",
        "  B_orig_fin = np.array(B_orig_distr + B_orig_noise,dtype=np.float32).T\n",
        "  B_orig_df = pd.DataFrame(B_orig_fin)\n",
        "\n",
        "  \n",
        "  missing_entries = np.random.choice(B_orig_fin.flatten(), int(B_orig_fin.flatten().shape[0]*percent_missing), replace=False)\n",
        "  B_df_masked = B_orig_df.copy()\n",
        "  for i in missing_entries:\n",
        "    B_df_masked[B_df_masked == i] = np.NAN\n",
        "  np_mask = B_df_masked.notnull()\n",
        "  tf_mask = tf.Variable(np_mask.values)\n",
        "  B = tf.constant(B_df_masked.values)\n",
        "\n",
        "  \n",
        "  shape = B_df_masked.values.shape\n",
        "\n",
        "  # Initializing random H and W\n",
        "  temp_H = np.random.randn(rank, shape[1]).astype(np.float32)\n",
        "  temp_H = np.divide(temp_H, temp_H.max())\n",
        "\n",
        "  temp_W = np.random.randn(shape[0], rank).astype(np.float32)\n",
        "  temp_W = np.divide(temp_W, temp_W.max())\n",
        "\n",
        "  H =  tf.Variable(temp_H)\n",
        "  W = tf.Variable(temp_W)\n",
        "  WH = tf.matmul(W, H)\n",
        "  \n",
        "  cost = tf.reduce_sum(tf.pow(tf.boolean_mask(B, tf_mask) - tf.boolean_mask(WH, tf_mask), 2))\n",
        "  \n",
        "  train_step = tf.train.GradientDescentOptimizer(lr).minimize(cost)\n",
        "  init = tf.global_variables_initializer()\n",
        "\n",
        "  cost_hist = []\n",
        "\n",
        "  with tf.Session() as sess:\n",
        "      sess.run(init)\n",
        "      for i in range(steps):\n",
        "          sess.run(train_step)\n",
        "          #sess.run(clip)\n",
        "          #if i%1000==0:\n",
        "              #print(\"\\nCost: %f\" % sess.run(cost))\n",
        "              #print(\"*\"*40)\n",
        "          cost_hist.append(sess.run(cost))\n",
        "      learnt_W = sess.run(W)\n",
        "      learnt_H = sess.run(H)\n",
        "\n",
        "  \n",
        "  fig.plot(cost_hist)\n",
        "  fig.set_ylabel('Cost')\n",
        "  fig.set_xlabel('Iterations')\n",
        "  fig.set_title(title_str)\n",
        "  #plt.show()\n",
        "      \n",
        "    \n",
        "    \n",
        "    \n",
        "\n",
        "\n",
        "\n",
        "\n"
      ],
      "execution_count": 0,
      "outputs": []
    },
    {
      "metadata": {
        "id": "Yd8X9kt5GJC9",
        "colab_type": "code",
        "colab": {}
      },
      "cell_type": "code",
      "source": [
        "\n",
        "\n",
        "#function, rows and cols, missing level, gradien vs. sgd.\n",
        "\n",
        "mean = 2\n",
        "stdev = 4\n",
        "\n",
        "rank = 5\n",
        "percent_missing = 0.25\n",
        "\n",
        "\n",
        "# Learning rate\n",
        "lr = 0.0001\n",
        "# Number of steps\n",
        "steps = 500\n",
        "\n",
        "f, ((ax1,ax2),(ax3,ax4)) = plt.subplots(2, 2)\n",
        "\n",
        "axes_list = [ax1,ax2,ax3,ax4]\n",
        "\n",
        "for i in range(4):\n",
        "  rows = 10**i\n",
        "  cols = 10**i\n",
        "  matcompl(rows, cols, mean, stdev, rank, percent_missing, lr, steps, axes_list[i],str(cols))\n",
        "\n",
        "f.show()"
      ],
      "execution_count": 0,
      "outputs": []
    },
    {
      "metadata": {
        "id": "PNzBYGCoKgpr",
        "colab_type": "code",
        "colab": {}
      },
      "cell_type": "code",
      "source": [
        ""
      ],
      "execution_count": 0,
      "outputs": []
    },
    {
      "metadata": {
        "id": "8Cl6XQ20NExv",
        "colab_type": "code",
        "colab": {
          "base_uri": "https://localhost:8080/",
          "height": 527
        },
        "outputId": "1ef923b2-8e43-4976-cf97-0a06508c187e"
      },
      "cell_type": "code",
      "source": [
        "\n"
      ],
      "execution_count": 163,
      "outputs": [
        {
          "output_type": "stream",
          "text": [
            "\n",
            "Cost: 1391.350342\n",
            "****************************************\n",
            "\n",
            "Cost: 307.174225\n",
            "****************************************\n",
            "\n",
            "Cost: 80.865509\n",
            "****************************************\n",
            "\n",
            "Cost: 51.157532\n",
            "****************************************\n",
            "\n",
            "Cost: 39.104485\n",
            "****************************************\n",
            "\n",
            "Cost: 33.011574\n",
            "****************************************\n",
            "\n",
            "Cost: 29.157318\n",
            "****************************************\n",
            "\n",
            "Cost: 26.426262\n",
            "****************************************\n",
            "\n",
            "Cost: 24.406675\n",
            "****************************************\n",
            "\n",
            "Cost: 22.805355\n",
            "****************************************\n"
          ],
          "name": "stdout"
        }
      ]
    },
    {
      "metadata": {
        "id": "pHusa_vtNdBO",
        "colab_type": "code",
        "colab": {}
      },
      "cell_type": "code",
      "source": [
        ""
      ],
      "execution_count": 0,
      "outputs": []
    },
    {
      "metadata": {
        "id": "P-g2HfI0ZZKK",
        "colab_type": "code",
        "colab": {
          "base_uri": "https://localhost:8080/",
          "height": 361
        },
        "outputId": "e7618edf-3425-4718-df26-66f28442064b"
      },
      "cell_type": "code",
      "source": [
        ""
      ],
      "execution_count": 166,
      "outputs": [
        {
          "output_type": "display_data",
          "data": {
            "image/png": "[encoded data removed]",
            "text/plain": [
              "<matplotlib.figure.Figure at 0x7fd81e26e550>"
            ]
          },
          "metadata": {
            "tags": []
          }
        }
      ]
    },
    {
      "metadata": {
        "id": "0jo7nmV6YkQi",
        "colab_type": "code",
        "colab": {}
      },
      "cell_type": "code",
      "source": [
        ""
      ],
      "execution_count": 0,
      "outputs": []
    }
  ]
}