{
  "nbformat": 4,
  "nbformat_minor": 0,
  "metadata": {
    "colab": {
      "name": "HW TensorFlow with GPU",
      "version": "0.3.2",
      "provenance": [],
      "collapsed_sections": [],
      "toc_visible": true,
      "include_colab_link": true
    },
    "kernelspec": {
      "display_name": "Python 2",
      "name": "python2"
    },
    "accelerator": "GPU"
  },
  "cells": [
    {
      "cell_type": "markdown",
      "metadata": {
        "id": "view-in-github",
        "colab_type": "text"
      },
      "source": [
        "[View in Colaboratory](https://colab.research.google.com/github/clee1994/DLclass/blob/master/HW_TensorFlow_with_GPU.ipynb)"
      ]
    },
    {
      "metadata": {
        "id": "BlmQIFSLZDdc",
        "colab_type": "text"
      },
      "cell_type": "markdown",
      "source": [
        "# Confirm TensorFlow can see the GPU\n",
        "\n",
        "Simply select \"GPU\" in the Accelerator drop-down in Notebook Settings (either through the Edit menu or the command palette at cmd/ctrl-shift-P)."
      ]
    },
    {
      "metadata": {
        "id": "3IEVK-KFxi5Z",
        "colab_type": "code",
        "colab": {
          "base_uri": "https://localhost:8080/",
          "height": 34
        },
        "outputId": "d52710c6-28cf-49ee-a3bd-ca62e34894fd"
      },
      "cell_type": "code",
      "source": [
        "import tensorflow as tf\n",
        "import matplotlib.pyplot as plt\n",
        "import numpy as np\n",
        "import sys\n",
        "import time\n",
        "import pandas as pd\n",
        "\n",
        "device_name = tf.test.gpu_device_name()\n",
        "if device_name != '/device:GPU:0':\n",
        "  raise SystemError('GPU device not found')\n",
        "print('Found GPU at: {}'.format(device_name))"
      ],
      "execution_count": 1,
      "outputs": [
        {
          "output_type": "stream",
          "text": [
            "Found GPU at: /device:GPU:0\n"
          ],
          "name": "stdout"
        }
      ]
    },
    {
      "metadata": {
        "id": "QXRh0DPiZRyG",
        "colab_type": "text"
      },
      "cell_type": "markdown",
      "source": [
        "# Observe TensorFlow speedup on GPU relative to CPU\n",
        "\n",
        "This example constructs a typical convolutional neural network layer over a\n",
        "random image and manually places the resulting ops on either the CPU or the GPU\n",
        "to compare execution speed."
      ]
    },
    {
      "metadata": {
        "id": "Lolmjt71kXh3",
        "colab_type": "code",
        "colab": {}
      },
      "cell_type": "code",
      "source": [
        "def gen_matrix(rows, cols, rank, percent_missing):\n",
        "\n",
        "   \n",
        "  #initialize\n",
        "  A = np.random.randn(rows,rank)\n",
        "  B = np.random.randn(rank,cols)\n",
        "  C_orig = np.dot(A,B)*100\n",
        "  C_masked = C_orig.copy()\n",
        "  \n",
        "  #for np mask purpose\n",
        "  C_masked.ravel()[np.random.choice(C_orig.size, int(C_orig.size*percent_missing), replace=False)] = np.nan\n",
        "  C_masked_df = pd.DataFrame(C_masked)\n",
        "  np_mask = C_masked_df.notnull()\n",
        "  \n",
        "  C_orig = np.array(C_orig,dtype=np.float32).T\n",
        "  C_orig_df = pd.DataFrame(C_orig)\n",
        "   \n",
        " \n",
        "  shape = C_orig_df.values.shape\n",
        "\n",
        "  # Initializing random H and W\n",
        "  temp_H = np.random.randn(rank, shape[1]).astype(np.float32)\n",
        "  temp_H = np.divide(temp_H, temp_H.max())\n",
        "\n",
        "  temp_W = np.random.randn(shape[0], rank).astype(np.float32)\n",
        "  temp_W = np.divide(temp_W, temp_W.max())\n",
        "  \n",
        "  return temp_H, temp_W, C_orig_df, np_mask\n",
        "\n",
        "\n",
        "\n",
        "\n",
        "\n",
        "\n"
      ],
      "execution_count": 0,
      "outputs": []
    },
    {
      "metadata": {
        "id": "EUhg3k_FUEt2",
        "colab_type": "code",
        "colab": {}
      },
      "cell_type": "code",
      "source": [
        "def matcompl_grad(rows, cols, rank, percent_missing, lr, steps):\n",
        "  \n",
        "  config = tf.ConfigProto(allow_soft_placement = True)\n",
        "  config.gpu_options.allow_growth = True\n",
        "  \n",
        "  cost_hist = pd.DataFrame({'cost':[],'time':[],'acc':[]})\n",
        "  for i in range(50):\n",
        "    print(i)\n",
        "    temp_H, temp_W, B_orig, np_mask = gen_matrix(rows, cols, rank, percent_missing)\n",
        "\n",
        "\n",
        "\n",
        "    with tf.device('/gpu:0'):\n",
        "\n",
        "      tf_mask = tf.constant(np_mask.values)\n",
        "      B = tf.constant(B_orig.values)\n",
        "\n",
        "      H =  tf.Variable(temp_H)\n",
        "      W = tf.Variable(temp_W)\n",
        "      WH = tf.matmul(W, H)\n",
        "      cost = tf.reduce_sum(tf.pow(tf.boolean_mask(B, tf_mask) - tf.boolean_mask(WH, tf_mask), 2))\n",
        "      accuracy = tf.reduce_sum(tf.pow(tf.boolean_mask(B, tf.logical_not(tf_mask)) - tf.boolean_mask(WH, tf.logical_not(tf_mask)), 2))\n",
        "\n",
        "      train_step = tf.train.GradientDescentOptimizer(lr).minimize(cost)\n",
        "      init = tf.global_variables_initializer()\n",
        "\n",
        "\n",
        "\n",
        "\n",
        "    with tf.Session(config=config) as sess:\n",
        "        sess.run(init)\n",
        "        start_time = time.time()\n",
        "        for i in range(steps):\n",
        "            sess.run(train_step)\n",
        "            new_entry = pd.DataFrame({'cost':[sess.run(cost)],'time':[time.time() - start_time],'acc':[sess.run(accuracy)]})\n",
        "            cost_hist = cost_hist.append(new_entry,ignore_index=True)\n",
        "\n",
        "\n",
        "  plt.subplot(1, 2, 1)\n",
        "  plt.scatter(cost_hist['time'],cost_hist['cost'])\n",
        "  plt.xlabel(\"time\")\n",
        "  plt.ylabel(\"cost\")\n",
        "  \n",
        "  plt.subplot(1, 2, 2)\n",
        "  plt.scatter(cost_hist['time'],cost_hist['acc'])\n",
        "  plt.xlabel(\"time\")\n",
        "  plt.ylabel(\"correct\")\n",
        "  \n",
        "  plt.tight_layout()\n",
        "  plt.show()\n",
        "      \n",
        "    \n",
        "    \n",
        "    \n"
      ],
      "execution_count": 0,
      "outputs": []
    },
    {
      "metadata": {
        "id": "TWwt9wLlUHH0",
        "colab_type": "code",
        "colab": {}
      },
      "cell_type": "code",
      "source": [
        ""
      ],
      "execution_count": 0,
      "outputs": []
    },
    {
      "metadata": {
        "id": "Yd8X9kt5GJC9",
        "colab_type": "code",
        "colab": {}
      },
      "cell_type": "code",
      "source": [
        ""
      ],
      "execution_count": 0,
      "outputs": []
    },
    {
      "metadata": {
        "id": "iyOV_kb1QkaQ",
        "colab_type": "code",
        "colab": {
          "base_uri": "https://localhost:8080/",
          "height": 1251
        },
        "outputId": "e02d0ae1-6274-452c-9c17-ca2956631838"
      },
      "cell_type": "code",
      "source": [
        "matcompl_grad(10, 10, 3, 0.2, 0.0001, 500)"
      ],
      "execution_count": 24,
      "outputs": [
        {
          "output_type": "stream",
          "text": [
            "0\n",
            "1\n",
            "2\n",
            "3\n",
            "4\n",
            "5\n",
            "6\n",
            "7\n",
            "8\n",
            "9\n",
            "10\n",
            "11\n",
            "12\n",
            "13\n",
            "14\n",
            "15\n",
            "16\n",
            "17\n",
            "18\n",
            "19\n",
            "20\n",
            "21\n",
            "22\n",
            "23\n",
            "24\n",
            "25\n",
            "26\n",
            "27\n",
            "28\n",
            "29\n",
            "30\n",
            "31\n",
            "32\n",
            "33\n",
            "34\n",
            "35\n",
            "36\n",
            "37\n",
            "38\n",
            "39\n",
            "40\n",
            "41\n",
            "42\n",
            "43\n",
            "44\n",
            "45\n",
            "46\n",
            "47\n",
            "48\n",
            "49\n"
          ],
          "name": "stdout"
        },
        {
          "output_type": "display_data",
          "data": {
            "image/png": "[encoded data removed]",
            "text/plain": [
              "<matplotlib.figure.Figure at 0x7f51896e5790>"
            ]
          },
          "metadata": {
            "tags": []
          }
        }
      ]
    },
    {
      "metadata": {
        "id": "P-g2HfI0ZZKK",
        "colab_type": "code",
        "colab": {}
      },
      "cell_type": "code",
      "source": [
        "def matcompl_sgd(rows, cols, rank, percent_missing, lr, steps):\n",
        "  batch_size = 10\n",
        "  \n",
        "  \n",
        "  config = tf.ConfigProto(allow_soft_placement = True)\n",
        "  config.gpu_options.allow_growth = True\n",
        "  \n",
        "  cost_hist = pd.DataFrame({'cost':[],'time':[],'acc':[]})\n",
        "  for i in range(50):\n",
        "    print(i)\n",
        "    temp_H, temp_W, B_orig, np_mask = gen_matrix(rows, cols, rank, percent_missing)\n",
        "\n",
        "\n",
        "\n",
        "    with tf.device('/gpu:0'):\n",
        "      B = tf.constant(B_orig.values)\n",
        "\n",
        "      pl_mask = tf.placeholder(tf.bool, shape=(rows, cols))\n",
        "\n",
        "      H =  tf.Variable(temp_H)\n",
        "      W = tf.Variable(temp_W)\n",
        "      WH = tf.matmul(W, H)\n",
        "\n",
        "      cost = tf.reduce_sum(tf.pow(tf.boolean_mask(B, pl_mask) - tf.boolean_mask(WH, pl_mask), 2))\n",
        "      accuracy = tf.reduce_sum(tf.pow(tf.boolean_mask(B, tf.logical_not(pl_mask)) - tf.boolean_mask(WH, tf.logical_not(pl_mask)), 2))\n",
        "\n",
        "      train_step = tf.train.GradientDescentOptimizer(lr).minimize(cost)\n",
        "      init = tf.global_variables_initializer()\n",
        "\n",
        "\n",
        "\n",
        "\n",
        "    with tf.Session(config=config) as sess:\n",
        "        sess.run(init)\n",
        "        start_time = time.time()\n",
        "        for i in range(steps):\n",
        "\n",
        "            sample_mask = np.zeros((rows, cols)).astype(bool)\n",
        "            sample_mask.ravel()[np.random.choice(np_mask.size, batch_size, replace=False)] = True\n",
        "            sample_mask = sample_mask & np_mask\n",
        "\n",
        "            sess.run(train_step, feed_dict={pl_mask:sample_mask.values})\n",
        "            new_entry = pd.DataFrame({'cost':[sess.run(cost, feed_dict={pl_mask:sample_mask.values})],'time':[time.time() - start_time],'acc':[sess.run(accuracy, feed_dict={pl_mask:sample_mask.values})]})\n",
        "            cost_hist = cost_hist.append(new_entry,ignore_index=True)\n",
        "\n",
        "\n",
        "  plt.subplot(1, 2, 1)\n",
        "  plt.scatter(cost_hist['time'],cost_hist['cost'])\n",
        "  plt.xlabel(\"time\")\n",
        "  plt.ylabel(\"cost\")\n",
        "  \n",
        "  plt.subplot(1, 2, 2)\n",
        "  plt.scatter(cost_hist['time'],cost_hist['acc'])\n",
        "  plt.xlabel(\"time\")\n",
        "  plt.ylabel(\"correct\")\n",
        "  \n",
        "  plt.tight_layout()\n",
        "  plt.show()\n",
        "      \n"
      ],
      "execution_count": 0,
      "outputs": []
    },
    {
      "metadata": {
        "id": "Q5hVk3eP1A7l",
        "colab_type": "code",
        "colab": {
          "base_uri": "https://localhost:8080/",
          "height": 306
        },
        "outputId": "80d8456e-cecb-454b-a860-61180c2f586c"
      },
      "cell_type": "code",
      "source": [
        "matcompl_sgd(10, 10, 3, 0.2, 0.0001, 500)"
      ],
      "execution_count": 0,
      "outputs": [
        {
          "output_type": "stream",
          "text": [
            "0\n",
            "1\n",
            "2\n",
            "3\n",
            "4\n",
            "5\n",
            "6\n",
            "7\n",
            "8\n",
            "9\n",
            "10\n",
            "11\n",
            "12\n",
            "13\n",
            "14\n",
            "15\n",
            "16\n"
          ],
          "name": "stdout"
        }
      ]
    },
    {
      "metadata": {
        "id": "ZjGcHocJTFH7",
        "colab_type": "code",
        "colab": {}
      },
      "cell_type": "code",
      "source": [
        "\n",
        "      "
      ],
      "execution_count": 0,
      "outputs": []
    }
  ]
}