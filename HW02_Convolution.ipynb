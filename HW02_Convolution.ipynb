{
  "nbformat": 4,
  "nbformat_minor": 0,
  "metadata": {
    "colab": {
      "name": "HW02_Convolution.ipynb",
      "version": "0.3.2",
      "provenance": [],
      "collapsed_sections": [],
      "include_colab_link": true
    },
    "kernelspec": {
      "name": "python3",
      "display_name": "Python 3"
    },
    "accelerator": "GPU"
  },
  "cells": [
    {
      "cell_type": "markdown",
      "metadata": {
        "id": "view-in-github",
        "colab_type": "text"
      },
      "source": [
        "[View in Colaboratory](https://colab.research.google.com/github/clee1994/DLclass/blob/master/HW02_Convolution.ipynb)"
      ]
    },
    {
      "metadata": {
        "id": "aO7NghcV5zX9",
        "colab_type": "code",
        "colab": {
          "base_uri": "https://localhost:8080/",
          "height": 34
        },
        "outputId": "470b8112-94d3-48d3-af4b-7481818d222a"
      },
      "cell_type": "code",
      "source": [
        "import numpy as np\n",
        "from scipy import signal as signal\n",
        "import matplotlib.pyplot as plt\n",
        "import time\n",
        "import tensorflow  as tf\n",
        "\n",
        "device_name = tf.test.gpu_device_name()\n",
        "if device_name != '/device:GPU:0':\n",
        "  raise SystemError('GPU device not found')\n",
        "print('Found GPU at: {}'.format(device_name))"
      ],
      "execution_count": 31,
      "outputs": [
        {
          "output_type": "stream",
          "text": [
            "Found GPU at: /device:GPU:0\n"
          ],
          "name": "stdout"
        }
      ]
    },
    {
      "metadata": {
        "id": "0q6A1kQsXnMe",
        "colab_type": "code",
        "colab": {}
      },
      "cell_type": "code",
      "source": [
        ""
      ],
      "execution_count": 0,
      "outputs": []
    },
    {
      "metadata": {
        "id": "nid3QaoIYeh0",
        "colab_type": "code",
        "colab": {}
      },
      "cell_type": "code",
      "source": [
        ""
      ],
      "execution_count": 0,
      "outputs": []
    },
    {
      "metadata": {
        "id": "fu6KK7MTL26Z",
        "colab_type": "code",
        "colab": {}
      },
      "cell_type": "code",
      "source": [
        "def tf2dConv(matrix_reshaped,kernel_reshaped, gpu=False):\n",
        "  config = tf.ConfigProto(allow_soft_placement = True)\n",
        "  config.gpu_options.allow_growth = True\n",
        "  \n",
        "  if gpu:\n",
        "    device_string = '/gpu:0'\n",
        "  else:\n",
        "    device_string = '/cpu:0'\n",
        "\n",
        "  with tf.device(device_string):\n",
        "    \n",
        "    input_matrix =  tf.Variable(matrix_reshaped.astype(float))\n",
        "    kernel_tf = tf.constant(kernel_reshaped.astype(float))\n",
        "\n",
        "    convoluted_matrix = tf.nn.convolution(input=input_matrix,filter=kernel_tf,strides=[1,1],padding=\"VALID\")\n",
        "    init = tf.global_variables_initializer()\n",
        "\n",
        "    with tf.Session(config=config) as sess:\n",
        "      sess.run(init)\n",
        "      time1 = time.time()\n",
        "      output_matrix = sess.run(convoluted_matrix)\n",
        "      time2 = time.time()\n",
        "  return output_matrix[0],(time2-time1)\n",
        "\n"
      ],
      "execution_count": 0,
      "outputs": []
    },
    {
      "metadata": {
        "id": "UvC5yr7ojKRd",
        "colab_type": "code",
        "colab": {}
      },
      "cell_type": "code",
      "source": [
        ""
      ],
      "execution_count": 0,
      "outputs": []
    },
    {
      "metadata": {
        "id": "qoXqX6JuQKBU",
        "colab_type": "code",
        "colab": {}
      },
      "cell_type": "code",
      "source": [
        "def padWith(vector, pad_width, iaxis, kwargs):\n",
        "  pad_value = kwargs.get('padder', 10)\n",
        "  vector[:pad_width[0]] = pad_value\n",
        "  vector[-pad_width[1]:] = pad_value\n",
        "  return vector"
      ],
      "execution_count": 0,
      "outputs": []
    },
    {
      "metadata": {
        "id": "8-jpgdpI7869",
        "colab_type": "code",
        "colab": {}
      },
      "cell_type": "code",
      "source": [
        "def joshi2dpatch(patch,kernel):\n",
        "  flippedKernel = np.fliplr(np.flipud(kernel))\n",
        "  appliedKernel = np.multiply(patch,flippedKernel)\n",
        "  outPixel = np.sum(np.sum(appliedKernel))\n",
        "  \n",
        "  return outPixel"
      ],
      "execution_count": 0,
      "outputs": []
    },
    {
      "metadata": {
        "id": "Mp6QTiUQ78_9",
        "colab_type": "code",
        "colab": {}
      },
      "cell_type": "code",
      "source": [
        "def joshi2dConv(inMatrix,kernel):\n",
        "  \n",
        "  kSize = kernel.shape\n",
        "  pSize = inMatrix.shape\n",
        "  outputH = (pSize[0]-kSize[0])+1\n",
        "  outputW = (pSize[1]-kSize[1])+1\n",
        "  outputPatch = np.zeros([outputH,outputW])\n",
        "  \n",
        "  \n",
        "  for outer in range(outputH):\n",
        "    for inner in range(outputW):\n",
        "      outputPatch[outer,inner] = joshi2dpatch(inMatrix[outer:(outer+kSize[0]),inner:(inner+kSize[1])],kernel) \n",
        "  \n",
        "  return outputPatch"
      ],
      "execution_count": 0,
      "outputs": []
    },
    {
      "metadata": {
        "id": "QBbPJRDjgwzv",
        "colab_type": "code",
        "colab": {}
      },
      "cell_type": "code",
      "source": [
        "def runConvs(matrix, kernel):\n",
        "  iters = 100\n",
        "  \n",
        "  \n",
        "  mshape = matrix.shape\n",
        "  kshape = kernel.shape\n",
        "  temp_mat = np.repeat(matrix,iters)\n",
        "  matrix_reshaped = temp_mat.reshape(iters, mshape[0], mshape[1], 1)\n",
        "  kernel_reshaped = kernel.reshape(kshape[0], kshape[1], 1, 1)\n",
        "  \n",
        "  \n",
        "  results = np.ones([iters,4])*np.nan\n",
        "  \n",
        "  \n",
        "  #tensorflow with CPU/GPU\n",
        "  testConvTf, tftime = tf2dConv(matrix_reshaped,kernel_reshaped,gpu=False)\n",
        "  results[0,2] = 1/(tftime/100)\n",
        "  testConvTf, tftime = tf2dConv(matrix_reshaped,kernel_reshaped,gpu=True)\n",
        "  results[0,3] = 1/(tftime/100)\n",
        "  \n",
        "  for i in range(iters):\n",
        "    #Joshi\n",
        "    time1 = time.time()\n",
        "    testConvJoshi = joshi2dConv(matrix,kernel)\n",
        "    time2 = time.time()\n",
        "    results[i,0] = 1/(time2-time1)\n",
        "    \n",
        "\n",
        "    #Scipy\n",
        "    time1 = time.time()\n",
        "    testConvScipy = signal.convolve2d(matrix,kernel,mode='valid')\n",
        "    time2 = time.time()\n",
        "    results[i,1] = 1/(time2-time1)\n",
        "    \n",
        "\n",
        "\n",
        "    \n",
        "    \n",
        "  \n",
        "  print('Joshi Convolutions per second: {:.3f} +/- {:.3f}'.format(np.average(results[:,0]), np.std(results[:,0])))\n",
        "  print('Scipy Convolutions per second: {:.3f} +/- {:.3f}'.format(np.average(results[:,1]), np.std(results[:,1])))\n",
        "  print('Tensorflow Convolutions per second: {:.3f} '.format(results[0,2]))\n",
        "  print('Tensorflow with GPU Convolutions per second: {:.3f} '.format(results[0,3]))\n",
        "  "
      ],
      "execution_count": 0,
      "outputs": []
    },
    {
      "metadata": {
        "id": "Iq-xeqJA79C_",
        "colab_type": "code",
        "colab": {
          "base_uri": "https://localhost:8080/",
          "height": 629
        },
        "outputId": "26d863bd-2bc3-4cf2-ab2e-21aa1275ab97"
      },
      "cell_type": "code",
      "source": [
        "if __name__=='__main__':\n",
        "  \n",
        "  ksizes = [3,5,7]\n",
        "  msizes = [28,32]\n",
        " \n",
        "  \n",
        "  for i in ksizes:\n",
        "    for j in msizes:\n",
        "      print(\"# matrix size: {}, kernel size: {}\".format(i,j))\n",
        "      kernel = np.eye(i)\n",
        "      matrix = np.random.randn(j,j)*100\n",
        "      runConvs(matrix,kernel)\n",
        "      print(\"-\"*25)\n",
        "  \n",
        "  \n",
        "  \n",
        "\n"
      ],
      "execution_count": 57,
      "outputs": [
        {
          "output_type": "stream",
          "text": [
            "# matrix size: 3, kernel size: 28\n",
            "Joshi Convolutions per second: 117.463 +/- 3.997\n",
            "Scipy Convolutions per second: 13313.248 +/- 2407.592\n",
            "Tensorflow Convolutions per second: 407.700 \n",
            "Tensorflow with GPU Convolutions per second: 402.082 \n",
            "-------------------------\n",
            "# matrix size: 3, kernel size: 32\n",
            "Joshi Convolutions per second: 85.437 +/- 7.282\n",
            "Scipy Convolutions per second: 9587.913 +/- 2436.348\n",
            "Tensorflow Convolutions per second: 384.337 \n",
            "Tensorflow with GPU Convolutions per second: 364.839 \n",
            "-------------------------\n",
            "# matrix size: 5, kernel size: 28\n",
            "Joshi Convolutions per second: 130.896 +/- 11.136\n",
            "Scipy Convolutions per second: 10108.983 +/- 1933.915\n",
            "Tensorflow Convolutions per second: 373.466 \n",
            "Tensorflow with GPU Convolutions per second: 409.620 \n",
            "-------------------------\n",
            "# matrix size: 5, kernel size: 32\n",
            "Joshi Convolutions per second: 97.810 +/- 7.991\n",
            "Scipy Convolutions per second: 7801.327 +/- 1631.578\n",
            "Tensorflow Convolutions per second: 363.231 \n",
            "Tensorflow with GPU Convolutions per second: 364.681 \n",
            "-------------------------\n",
            "# matrix size: 7, kernel size: 28\n",
            "Joshi Convolutions per second: 158.209 +/- 7.622\n",
            "Scipy Convolutions per second: 7888.939 +/- 949.615\n",
            "Tensorflow Convolutions per second: 374.174 \n",
            "Tensorflow with GPU Convolutions per second: 366.555 \n",
            "-------------------------\n",
            "# matrix size: 7, kernel size: 32\n",
            "Joshi Convolutions per second: 111.524 +/- 8.615\n",
            "Scipy Convolutions per second: 6043.774 +/- 725.284\n",
            "Tensorflow Convolutions per second: 350.872 \n",
            "Tensorflow with GPU Convolutions per second: 389.890 \n",
            "-------------------------\n"
          ],
          "name": "stdout"
        }
      ]
    },
    {
      "metadata": {
        "id": "0_Of1bGn78-1",
        "colab_type": "code",
        "colab": {}
      },
      "cell_type": "code",
      "source": [
        ""
      ],
      "execution_count": 0,
      "outputs": []
    },
    {
      "metadata": {
        "id": "wRBJGIwZ7852",
        "colab_type": "code",
        "colab": {}
      },
      "cell_type": "code",
      "source": [
        ""
      ],
      "execution_count": 0,
      "outputs": []
    },
    {
      "metadata": {
        "id": "LvfdFLae7811",
        "colab_type": "code",
        "colab": {}
      },
      "cell_type": "code",
      "source": [
        ""
      ],
      "execution_count": 0,
      "outputs": []
    }
  ]
}