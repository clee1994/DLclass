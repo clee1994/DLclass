{
  "nbformat": 4,
  "nbformat_minor": 0,
  "metadata": {
    "colab": {
      "name": "HW02_Convolution.ipynb",
      "version": "0.3.2",
      "provenance": [],
      "collapsed_sections": [],
      "include_colab_link": true
    },
    "kernelspec": {
      "name": "python3",
      "display_name": "Python 3"
    },
    "accelerator": "GPU"
  },
  "cells": [
    {
      "cell_type": "markdown",
      "metadata": {
        "id": "view-in-github",
        "colab_type": "text"
      },
      "source": [
        "[View in Colaboratory](https://colab.research.google.com/github/clee1994/DLclass/blob/master/HW02_Convolution.ipynb)"
      ]
    },
    {
      "metadata": {
        "id": "aO7NghcV5zX9",
        "colab_type": "code",
        "colab": {
          "base_uri": "https://localhost:8080/",
          "height": 34
        },
        "outputId": "f3a804ff-5614-4a4f-94e9-3fa456723cee"
      },
      "cell_type": "code",
      "source": [
        "import numpy as np\n",
        "from scipy import signal as signal\n",
        "import matplotlib.pyplot as plt\n",
        "import time\n",
        "import tensorflow  as tf\n",
        "\n",
        "device_name = tf.test.gpu_device_name()\n",
        "if device_name != '/device:GPU:0':\n",
        "  raise SystemError('GPU device not found')\n",
        "print('Found GPU at: {}'.format(device_name))"
      ],
      "execution_count": 0,
      "outputs": [
        {
          "output_type": "stream",
          "text": [
            "Found GPU at: /device:GPU:0\n"
          ],
          "name": "stdout"
        }
      ]
    },
    {
      "metadata": {
        "id": "0q6A1kQsXnMe",
        "colab_type": "code",
        "colab": {}
      },
      "cell_type": "code",
      "source": [
        ""
      ],
      "execution_count": 0,
      "outputs": []
    },
    {
      "metadata": {
        "id": "nid3QaoIYeh0",
        "colab_type": "code",
        "colab": {}
      },
      "cell_type": "code",
      "source": [
        ""
      ],
      "execution_count": 0,
      "outputs": []
    },
    {
      "metadata": {
        "id": "fu6KK7MTL26Z",
        "colab_type": "code",
        "colab": {}
      },
      "cell_type": "code",
      "source": [
        "def tf2dConv(matrix_reshaped,kernel_reshaped):\n",
        "  config = tf.ConfigProto(allow_soft_placement = True)\n",
        "  config.gpu_options.allow_growth = True\n",
        "\n",
        "  with tf.device('/gpu:0'):\n",
        "    \n",
        "    input_matrix =  tf.Variable(matrix_reshaped.astype(float))\n",
        "    kernel_tf = tf.constant(kerne_reshaped.astype(float))\n",
        "\n",
        "    convoluted_matrix = tf.nn.convolution(input=input_matrix,filter=kernel_tf,strides=[1,1],padding=\"VALID\")\n",
        "    init = tf.global_variables_initializer()\n",
        "\n",
        "    with tf.Session(config=config) as sess:\n",
        "      sess.run(init)\n",
        "      \n",
        "      time1 = time.time()\n",
        "      output_matrix = sess.run(convoluted_matrix)\n",
        "      time2 = time.time()\n",
        "  return output_matrix[0],(time2-time1)\n",
        "\n"
      ],
      "execution_count": 0,
      "outputs": []
    },
    {
      "metadata": {
        "id": "UvC5yr7ojKRd",
        "colab_type": "code",
        "colab": {}
      },
      "cell_type": "code",
      "source": [
        "def tf2dConvCPU(matrix_reshaped,kernel_reshaped):\n",
        "  config = tf.ConfigProto(allow_soft_placement = True)\n",
        "  config.gpu_options.allow_growth = True\n",
        "\n",
        "  with tf.device('/gpu:0'):\n",
        "    \n",
        "    input_matrix =  tf.Variable(matrix_reshaped.astype(float))\n",
        "    kernel_tf = tf.constant(kerne_reshaped.astype(float))\n",
        "\n",
        "    convoluted_matrix = tf.nn.convolution(input=input_matrix,filter=kernel_tf,strides=[1,1],padding=\"VALID\")\n",
        "    init = tf.global_variables_initializer()\n",
        "\n",
        "    with tf.Session(config=config) as sess:\n",
        "      sess.run(init)\n",
        "      \n",
        "      time1 = time.time()\n",
        "      output_matrix = sess.run(convoluted_matrix)\n",
        "      time2 = time.time()\n",
        "  return output_matrix[0],(time2-time1)\n"
      ],
      "execution_count": 0,
      "outputs": []
    },
    {
      "metadata": {
        "id": "qoXqX6JuQKBU",
        "colab_type": "code",
        "colab": {}
      },
      "cell_type": "code",
      "source": [
        "def padWith(vector, pad_width, iaxis, kwargs):\n",
        "  pad_value = kwargs.get('padder', 10)\n",
        "  vector[:pad_width[0]] = pad_value\n",
        "  vector[-pad_width[1]:] = pad_value\n",
        "  return vector"
      ],
      "execution_count": 0,
      "outputs": []
    },
    {
      "metadata": {
        "id": "8-jpgdpI7869",
        "colab_type": "code",
        "colab": {}
      },
      "cell_type": "code",
      "source": [
        "def joshi2dpatch(patch,kernel):\n",
        "  flippedKernel = np.fliplr(np.flipud(kernel))\n",
        "  appliedKernel = np.multiply(patch,flippedKernel)\n",
        "  outPixel = np.sum(np.sum(appliedKernel))\n",
        "  \n",
        "  return outPixel"
      ],
      "execution_count": 0,
      "outputs": []
    },
    {
      "metadata": {
        "id": "Mp6QTiUQ78_9",
        "colab_type": "code",
        "colab": {}
      },
      "cell_type": "code",
      "source": [
        "def joshi2dConv(inMatrix,kernel):\n",
        "  \n",
        "  kSize = kernel.shape\n",
        "  pSize = inMatrix.shape\n",
        "  outputH = (pSize[0]-kSize[0])+1\n",
        "  outputW = (pSize[1]-kSize[1])+1\n",
        "  outputPatch = np.zeros([outputH,outputW])\n",
        "  \n",
        "  \n",
        "  for outer in range(outputH):\n",
        "    for inner in range(outputW):\n",
        "      outputPatch[outer,inner] = joshi2dpatch(inMatrix[outer:(outer+kSize[0]),inner:(inner+kSize[1])],kernel) \n",
        "  \n",
        "  return outputPatch"
      ],
      "execution_count": 0,
      "outputs": []
    },
    {
      "metadata": {
        "id": "QBbPJRDjgwzv",
        "colab_type": "code",
        "colab": {}
      },
      "cell_type": "code",
      "source": [
        "def runConvs(matrix, kernel):\n",
        "  mshape = matrix.shape\n",
        "  kshape = kernel.shape\n",
        "  \n",
        "  #Joshi\n",
        "  time1 = time.time()\n",
        "  testConvJoshi = joshi2dConv(matrix,kernel)\n",
        "  time2 = time.time()\n",
        "  print('Joshi Convolution per second: {:.3f}'.format(1/(time2-time1)))\n",
        "\n",
        "  #Scipy\n",
        "  time1 = time.time()\n",
        "  testConvScipy = signal.convolve2d(matrix,kernel,mode='valid')\n",
        "  time2 = time.time()\n",
        "  print('Scipy Convolution per second: {:.3f}'.format(1/(time2-time1)))\n",
        "\n",
        "  \n",
        "  #tensorflow with GPU\n",
        "  matrix_reshaped = matrix.reshape(1, mshape[0], mshape[1], 1)\n",
        "  kernel_reshaped = kernel.reshape(kshape[0], kshape[1], 1, 1)\n",
        "  testConvTf, tftime = tf2dConv(matrix_reshaped,kernel_reshaped)\n",
        "  print('Tensorflow Convolution per second: {:.3f}'.format(1/tftime))\n",
        "  \n",
        "  "
      ],
      "execution_count": 0,
      "outputs": []
    },
    {
      "metadata": {
        "id": "Iq-xeqJA79C_",
        "colab_type": "code",
        "colab": {
          "base_uri": "https://localhost:8080/",
          "height": 68
        },
        "outputId": "1b8c8201-ff59-415b-974a-ecfe5ae9c3fd"
      },
      "cell_type": "code",
      "source": [
        "if __name__=='__main__':\n",
        "  #test kernels\n",
        "  test_kernel = np.eye(2)\n",
        "  kernel3 = np.eye(3)\n",
        "  kernel5 = np.eye(5)\n",
        "  kernel7 = np.eye(7)\n",
        "  \n",
        "  \n",
        "  #generate test data\n",
        "  test_matrix = np.array([[1,2,3],[4,5,6],[7,8,9]])\n",
        "  matrix28 = np.random.randn(28,28)*100\n",
        "  matrix32 = np.random.randn(32,32)*100\n",
        "  \n",
        "  runConvs(matrix32,kernel3)\n",
        "  \n",
        "  \n",
        "  \n",
        "\n"
      ],
      "execution_count": 0,
      "outputs": [
        {
          "output_type": "stream",
          "text": [
            "Joshi Convolution per second: 70.131\n",
            "Scipy Convolution per second: 7810.622\n",
            "Tensorflow Convolution per second: 173.462\n"
          ],
          "name": "stdout"
        }
      ]
    },
    {
      "metadata": {
        "id": "0_Of1bGn78-1",
        "colab_type": "code",
        "colab": {}
      },
      "cell_type": "code",
      "source": [
        ""
      ],
      "execution_count": 0,
      "outputs": []
    },
    {
      "metadata": {
        "id": "wRBJGIwZ7852",
        "colab_type": "code",
        "colab": {}
      },
      "cell_type": "code",
      "source": [
        ""
      ],
      "execution_count": 0,
      "outputs": []
    },
    {
      "metadata": {
        "id": "LvfdFLae7811",
        "colab_type": "code",
        "colab": {}
      },
      "cell_type": "code",
      "source": [
        ""
      ],
      "execution_count": 0,
      "outputs": []
    }
  ]
}